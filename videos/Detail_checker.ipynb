{
 "cells": [
  {
   "cell_type": "code",
   "execution_count": 1,
   "id": "3b54ba1e-367c-46e7-869d-3faf9cef3aa4",
   "metadata": {},
   "outputs": [],
   "source": [
    "import os\n",
    "import moviepy.editor as mp\n",
    "import pandas as pd\n",
    "\n",
    "current_directory = os.getcwd()\n",
    "\n",
    "folder_path = current_directory"
   ]
  },
  {
   "cell_type": "code",
   "execution_count": 25,
   "id": "7baad467-8eb4-4425-936a-acdda52f3f65",
   "metadata": {},
   "outputs": [],
   "source": [
    "# Initialize lists to store video details\n",
    "widths = []\n",
    "heights = []\n",
    "sizes = []\n",
    "lengths = []\n",
    "names = []\n",
    "\n",
    "# Loop through each video file in the folder\n",
    "for filename in os.listdir(folder_path):\n",
    "    if filename.endswith('.mp4'):  # Adjust the extension based on your video files\n",
    "        video_path = os.path.join(folder_path, filename)\n",
    "\n",
    "        # Get video details using moviepy\n",
    "        video = mp.VideoFileClip(video_path)\n",
    "        width, height = video.size\n",
    "        size = os.path.getsize(video_path)\n",
    "        length = video.duration\n",
    "\n",
    "        # Append details to lists\n",
    "        widths.append(width)\n",
    "        heights.append(height)\n",
    "        sizes.append(size)\n",
    "        lengths.append(length)\n",
    "        names.append(filename)\n",
    "\n",
    "# Create a DataFrame using the lists\n",
    "video_data = pd.DataFrame({\n",
    "    'Width': widths,\n",
    "    'Height': heights,\n",
    "    'Size (bytes)': sizes,\n",
    "    'Length (seconds)': lengths,\n",
    "    'Name': names\n",
    "})\n",
    "\n",
    "def write_to_excel():\n",
    "    excel_filename = 'video_details.xlsx'\n",
    "    excel_path = os.path.join(current_directory, excel_filename)\n",
    "    video_data.to_excel(excel_path, index=False)\n",
    "    print(f\"Video details have been saved to {excel_path}\")"
   ]
  },
  {
   "cell_type": "code",
   "execution_count": 26,
   "id": "1b8f450e-5ab6-4c84-b785-b2c254fc3d18",
   "metadata": {},
   "outputs": [
    {
     "data": {
      "text/plain": [
       "Height\n",
       "1920    96\n",
       "2048     3\n",
       "Name: count, dtype: int64"
      ]
     },
     "execution_count": 26,
     "metadata": {},
     "output_type": "execute_result"
    }
   ],
   "source": [
    "video_data['Height'].value_counts()"
   ]
  },
  {
   "cell_type": "code",
   "execution_count": 4,
   "id": "8da533e6-5780-4c9c-9308-4ba3dd1dd246",
   "metadata": {},
   "outputs": [],
   "source": [
    "import subprocess\n",
    "def videoConverter(video):\n",
    "    output = video.split('.')[0]\n",
    "    ffmpeg_command = f'ffmpeg -i {video} -vf scale=1080:1920 {output}_new.mp4'\n",
    "    try:\n",
    "        subprocess.call(ffmpeg_command, shell=True)\n",
    "        print(f\"{video} has been converted successfully.\")\n",
    "    except subprocess.CalledProcessError as e:\n",
    "        print(f\"Error converting {video}: {e}\")"
   ]
  },
  {
   "cell_type": "code",
   "execution_count": 24,
   "id": "95b84169-1b95-4978-bbc6-bcb85916a732",
   "metadata": {},
   "outputs": [
    {
     "name": "stdout",
     "output_type": "stream",
     "text": [
      "pexels-anastasia-shuraeva-6234917_(1080p).mp4 has been converted successfully.\n",
      "pexels-anastasia-shuraeva-6236339_(1080p).mp4 has been converted successfully.\n",
      "pexels-anthony-shkraba-7569779_(1080p).mp4 has been converted successfully.\n",
      "pexels-c-technical-6118582_(1080p).mp4 has been converted successfully.\n",
      "pexels-mart-production-9565177_(1080p).mp4 has been converted successfully.\n",
      "pexels-roman-odintsov-6664283_(1080p).mp4 has been converted successfully.\n",
      "pexels-tima-miroshnichenko-7876683_(1080p).mp4 has been converted successfully.\n",
      "production_id_3996890_(1080p).mp4 has been converted successfully.\n",
      "production_id_4612174_(1080p).mp4 has been converted successfully.\n",
      "production_id_4612178_(1080p).mp4 has been converted successfully.\n",
      "production_id_5138015_(1080p).mp4 has been converted successfully.\n"
     ]
    }
   ],
   "source": [
    "for index, row in video_data[video_data['Height']!=1920].iterrows():\n",
    "    name = '_'.join(row['Name'].split(' '))\n",
    "    videoConverter(name)"
   ]
  },
  {
   "cell_type": "code",
   "execution_count": null,
   "id": "e46c64ad-253c-4aa0-b6e8-1fdffc62e7b3",
   "metadata": {},
   "outputs": [],
   "source": []
  }
 ],
 "metadata": {
  "kernelspec": {
   "display_name": "Python 3 (ipykernel)",
   "language": "python",
   "name": "python3"
  },
  "language_info": {
   "codemirror_mode": {
    "name": "ipython",
    "version": 3
   },
   "file_extension": ".py",
   "mimetype": "text/x-python",
   "name": "python",
   "nbconvert_exporter": "python",
   "pygments_lexer": "ipython3",
   "version": "3.11.4"
  }
 },
 "nbformat": 4,
 "nbformat_minor": 5
}
