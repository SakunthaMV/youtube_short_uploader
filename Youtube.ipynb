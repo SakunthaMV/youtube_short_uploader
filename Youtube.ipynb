{
 "cells": [
  {
   "cell_type": "code",
   "execution_count": 74,
   "id": "d68fee83-7447-4e53-b16b-689b170a07c5",
   "metadata": {},
   "outputs": [],
   "source": [
    "import os\n",
    "import re\n",
    "import math\n",
    "import time\n",
    "import openai\n",
    "import random\n",
    "import pyttsx3\n",
    "import elevenlabs\n",
    "import audio_metadata\n",
    "from moviepy.editor import *\n",
    "from selenium import webdriver\n",
    "from datetime import datetime, timedelta\n",
    "from selenium.webdriver.common.by import By\n",
    "from selenium.webdriver.firefox.options import Options"
   ]
  },
  {
   "cell_type": "code",
   "execution_count": 75,
   "id": "f20b488d-8923-4cfe-ae4b-674598d6f924",
   "metadata": {},
   "outputs": [
    {
     "name": "stdout",
     "output_type": "stream",
     "text": [
      "39th Video and 2024-02-11 00:00:00 schedule date has updated.\n"
     ]
    }
   ],
   "source": [
    "with open('number_and_date.txt', 'r') as details:\n",
    "    video_details = details.readlines()\n",
    "short_no = int(video_details[0].split(' ')[0]) + 1\n",
    "upload_date = datetime.strptime(video_details[0].split(' ')[-1][:-1], '%Y/%m/%d') + timedelta(days=1)\n",
    "video_details.insert(0, str(short_no) + ' : ' +  upload_date.strftime('%Y/%m/%d') + '\\n')\n",
    "with open('number_and_date.txt', 'w') as details:\n",
    "    details.writelines(video_details)\n",
    "print(f'{short_no}th Video and {upload_date} schedule date has updated.')"
   ]
  },
  {
   "cell_type": "code",
   "execution_count": 76,
   "id": "7149a60e-266d-4d40-a7d4-781ee7c0f1c9",
   "metadata": {},
   "outputs": [],
   "source": [
    "api = open('api-key.txt', 'r').read()\n",
    "openai.api_key = api"
   ]
  },
  {
   "cell_type": "code",
   "execution_count": 77,
   "id": "4ca63495-0b53-41c7-ae87-be98e0da4a0a",
   "metadata": {},
   "outputs": [],
   "source": [
    "def getTopic():\n",
    "    with open('topics.txt', 'r') as topics_file:\n",
    "        first_topic = topics_file.readline()\n",
    "    with open('completed_topics.txt', 'a') as completed_topics_file:\n",
    "        completed_topics_file.write(first_topic)\n",
    "    with open('topics.txt', 'r') as topics_file:\n",
    "        remaining_topics = topics_file.readlines()[1:]\n",
    "    with open('topics.txt', 'w') as topics_file:\n",
    "        topics_file.writelines(remaining_topics)\n",
    "    return first_topic"
   ]
  },
  {
   "cell_type": "code",
   "execution_count": 78,
   "id": "c274780e-9762-404e-afb2-0c8fe5ea96e9",
   "metadata": {},
   "outputs": [],
   "source": [
    "topic = getTopic()"
   ]
  },
  {
   "cell_type": "code",
   "execution_count": 79,
   "id": "315106f8-8c03-4f78-b990-88d1ec2f963a",
   "metadata": {},
   "outputs": [],
   "source": [
    "def prompt():\n",
    "    perfect_prompt = [\n",
    "        f\"I want short youtube video script for topic '{topic}'\",\n",
    "        '\\nInitially it want to be start with question and give 3 steps to answer.',\n",
    "        '\\n25 seconds script is enough.',\n",
    "        '\\nLimit words around 70.'\n",
    "        '\\nI doing anotate video. I only need anotate sentences. give one paragarph. ',\n",
    "        '\\n\\nexample:-\\n',\n",
    "        'Topic = Quick and Easy Hair Tutorials\\n\\n',\n",
    "        'Answer:- Do you struggle with styling your hair?'+\n",
    "        ' Well, you\\'re in luck! Let\\'t achieve a fabulous hairstyle in just a few steps.'+\n",
    "        ' First, start by brushing your hair to remove any tangles.'+\n",
    "        ' Then, create a high ponytail by gathering your hair at the crown of your head and securing it with an elastic.'+\n",
    "        ' Finally, spritz your hair with some hairspray to hold the style in place all day. Voila!'+\n",
    "        ' You\\'re ready to rock a stylish and effortless look. So, why wait? Let\\'s get started!',\n",
    "        '\\n\\nI need above type of answer. only answer is enough.'\n",
    "    ]\n",
    "    return ''.join(perfect_prompt)"
   ]
  },
  {
   "cell_type": "code",
   "execution_count": 80,
   "id": "a063426f-9ea7-47ee-92da-07f4f3630dc0",
   "metadata": {},
   "outputs": [],
   "source": [
    "def gptOutput(content):\n",
    "    responce = openai.ChatCompletion.create(\n",
    "        model=\"gpt-3.5-turbo\",\n",
    "        messages=[\n",
    "            {\"role\": \"user\", \"content\": content}\n",
    "        ]\n",
    "    )\n",
    "    print(responce['choices'][0]['message']['content'])\n",
    "    return responce['choices'][0]['message']['content']"
   ]
  },
  {
   "cell_type": "code",
   "execution_count": 81,
   "id": "a9f0fced-6673-4238-a6b7-0069ec02c043",
   "metadata": {},
   "outputs": [
    {
     "name": "stdout",
     "output_type": "stream",
     "text": [
      "Question: Are you looking for travel-friendly beauty essentials to pack?\n",
      "\n",
      "Answer: Planning a trip but unsure of what beauty essentials to pack? Don't worry, we've got you covered! Follow these three steps to ensure you have all your travel-friendly beauty essentials ready to go. First, start by choosing multi-purpose products that can serve multiple functions. This will help save space in your luggage. Next, opt for travel-sized containers of your favorite products or invest in travel-sized toiletry bottles. These will comply with TSA regulations and save precious packing space. Finally, consider packing solid beauty products, such as solid perfume or shampoo bars, which are spill-proof and travel-friendly. By following these steps, you'll have all the beauty essentials you need for your journey without sacrificing space or convenience. Happy travels!\n",
      "Do you find it difficult to pack your beauty essentials when traveling? No worries, we've got you covered! Here are three simple steps to help you pack travel-friendly beauty essentials. Step one, choose multi-purpose products that can serve multiple functions, like a tinted moisturizer that also has SPF. Step two, opt for travel-sized versions of your favorite products to save space in your luggage. Step three, utilize packing cubes or organizers to keep your beauty products organized and prevent any leaks or spills. With these tips, you'll be able to pack efficiently and still look fabulous on your travels. Happy packing!\n"
     ]
    }
   ],
   "source": [
    "script = ''\n",
    "generation_count = 0\n",
    "while True:\n",
    "    script = gptOutput(prompt())\n",
    "    words = ['Topic:', 'Answer:', 'Question:']\n",
    "    script_list = script.split()\n",
    "    script_words = set(script.split())\n",
    "    words_available = [word for word in words if word in script_words]\n",
    "    if (len(words_available) == 0) and (len(script_list) < 140):\n",
    "        break\n",
    "    else:\n",
    "        generation_count += 1\n",
    "        if generation_count % 3 == 0:\n",
    "            time.sleep(45)\n",
    "        time.sleep(1)\n",
    "        continue"
   ]
  },
  {
   "cell_type": "code",
   "execution_count": 82,
   "id": "b3817e3f-ece4-4d64-963d-8d887a8f6877",
   "metadata": {},
   "outputs": [],
   "source": [
    "def description_prompt():\n",
    "    description = script + '\\n\\n' + 'This is a 30 seconds youtube short video script. Give me a suitable description with relevent hashtags. I need only one paragraph.'\n",
    "    return description"
   ]
  },
  {
   "cell_type": "code",
   "execution_count": 83,
   "id": "dac656a2-5f21-4325-b0dc-92705f0c85ea",
   "metadata": {},
   "outputs": [
    {
     "name": "stdout",
     "output_type": "stream",
     "text": [
      "\"Struggling to pack your beauty essentials for your upcoming travels? Don't fret! Watch this quick and informative YouTube video for three foolproof steps to make your packing woes disappear. Discover how to choose multi-purpose products, find travel-sized versions of your favorites, and keep everything organized with handy packing cubes. With these practical tips, you'll save space in your luggage and still look fabulous wherever you go. Get ready to conquer your beauty packing game! #beautyessentials #traveltips #packinghacks\"\n"
     ]
    }
   ],
   "source": [
    "description = ''\n",
    "des_count = 0\n",
    "while True:\n",
    "    description = gptOutput(description_prompt())\n",
    "    words = ['Hashtags:']\n",
    "    description_words = set(description.split())\n",
    "    words_available = [word for word in words if word in description_words]\n",
    "    if (len(words_available) == 0) or (des_count >= 2):\n",
    "        break\n",
    "    else:\n",
    "        des_count += 1\n",
    "        time.sleep(1)\n",
    "        continue"
   ]
  },
  {
   "cell_type": "code",
   "execution_count": 84,
   "id": "55401188-e2da-43c6-9198-b084f6081b64",
   "metadata": {},
   "outputs": [
    {
     "name": "stdout",
     "output_type": "stream",
     "text": [
      "Paragraph successfully saved to Short_39_script_and_description.txt\n"
     ]
    }
   ],
   "source": [
    "with open(f'scripts/Short_{short_no}_script_and_description.txt', 'w') as file:\n",
    "    paragraph ='Script:\\n\\n' + script + f'\\n\\nTitle :- {topic}' + '\\n\\nDescription:\\n\\n' + description\n",
    "    file.write(paragraph)\n",
    "print(f\"Paragraph successfully saved to Short_{short_no}_script_and_description.txt\")"
   ]
  },
  {
   "cell_type": "code",
   "execution_count": 85,
   "id": "db04213d-f16f-4f77-bde4-8ff60cab3c6e",
   "metadata": {},
   "outputs": [],
   "source": [
    "def count_letters(sentence):\n",
    "    letters_count = sum(c.isalpha() for c in sentence)\n",
    "    return letters_count"
   ]
  },
  {
   "cell_type": "code",
   "execution_count": 86,
   "id": "7f3649bd-bad7-4860-87c2-86140f4f97ce",
   "metadata": {},
   "outputs": [],
   "source": [
    "def separate_sentences(paragraph):\n",
    "    sentences = []\n",
    "    current_sentence = \"\"\n",
    "    for char in paragraph:\n",
    "        current_sentence += char\n",
    "        if char in ['.', '!', '?']:\n",
    "            sentences.append(current_sentence.strip())\n",
    "            current_sentence = \"\"\n",
    "    if current_sentence:\n",
    "        sentences.append(current_sentence.strip())\n",
    "    return sentences\n",
    "\n",
    "def final_sentences():\n",
    "    paragraph = script\n",
    "    sentences_list = separate_sentences(paragraph)\n",
    "    new_sentence_list = []\n",
    "    temp_sentence = ''\n",
    "    for sentence in sentences_list:\n",
    "        temp_sentence += sentence + ' '\n",
    "        if count_letters(temp_sentence)>=55:\n",
    "            new_sentence_list.append(temp_sentence)\n",
    "            temp_sentence = ''\n",
    "    if temp_sentence:\n",
    "        new_sentence_list.append(temp_sentence)\n",
    "        temp_sentence = ''\n",
    "    return new_sentence_list"
   ]
  },
  {
   "cell_type": "code",
   "execution_count": 87,
   "id": "a4a544d2-76d6-4bb6-8b43-f02875c8db19",
   "metadata": {},
   "outputs": [],
   "source": [
    "def get_audio_length(file_path):\n",
    "    metadata = audio_metadata.load(file_path)\n",
    "    duration_in_seconds = metadata.streaminfo.duration\n",
    "    return duration_in_seconds"
   ]
  },
  {
   "cell_type": "code",
   "execution_count": 103,
   "id": "76c119bd-85b2-4cbf-9ce2-e08041f26638",
   "metadata": {},
   "outputs": [],
   "source": [
    "voice_no = random.randint(1,8)"
   ]
  },
  {
   "cell_type": "code",
   "execution_count": 104,
   "id": "032b0175-47fe-4832-87a6-0b56b7f4dcdf",
   "metadata": {},
   "outputs": [],
   "source": [
    "def voiceOver(text, countable=None, voice=1):\n",
    "    lenght = 0.0\n",
    "    engine = pyttsx3.init()\n",
    "    voices = engine.getProperty('voices')\n",
    "    engine.setProperty('voice', voices[voice].id)\n",
    "    if countable:\n",
    "        engine.save_to_file(text, f'voices/Short_{short_no}_{countable}.mp3')\n",
    "    else:\n",
    "        engine.save_to_file(text, f'voices/Short_{short_no}.mp3')\n",
    "    # engine.say(text)\n",
    "    engine.runAndWait()\n",
    "    if countable:\n",
    "        lenght = get_audio_length(f'voices/Short_{short_no}_{countable}.mp3')\n",
    "    else:\n",
    "        lenght = get_audio_length(f'voices/Short_{short_no}.mp3')\n",
    "    \n",
    "    return lenght    "
   ]
  },
  {
   "cell_type": "code",
   "execution_count": 105,
   "id": "72159ddf-d29c-481f-9f27-3d2a1c947232",
   "metadata": {},
   "outputs": [],
   "source": [
    "voice_over_ranges = []\n",
    "final_sentences_list = final_sentences()\n",
    "for s in final_sentences_list:\n",
    "    i = final_sentences_list.index(s) + 1\n",
    "    length_sub = voiceOver(s, countable=i, voice=voice_no)\n",
    "    voice_over_ranges.append(length_sub)\n",
    "    \n",
    "final_voice_over_ranges = []\n",
    "cumalative = 0\n",
    "for i in range(len(voice_over_ranges)):\n",
    "    t_l = (round(cumalative, 2) , round(cumalative + voice_over_ranges[i], 2), final_sentences_list[i])\n",
    "    final_voice_over_ranges.append(t_l)\n",
    "    cumalative += voice_over_ranges[i] + 0.1"
   ]
  },
  {
   "cell_type": "code",
   "execution_count": 106,
   "id": "270f23f7-fb49-46de-97fc-0179f0d22c93",
   "metadata": {},
   "outputs": [
    {
     "data": {
      "text/plain": [
       "39.37378684807256"
      ]
     },
     "execution_count": 106,
     "metadata": {},
     "output_type": "execute_result"
    }
   ],
   "source": [
    "voice_lenght = voiceOver(script, voice=voice_no)\n",
    "voice_lenght"
   ]
  },
  {
   "cell_type": "code",
   "execution_count": 107,
   "id": "c2b82e6d-d5b0-464e-ae87-1632b8b64271",
   "metadata": {},
   "outputs": [],
   "source": [
    "video_folder_path = 'D:/Python/Youtube Project/Project/videos/'\n",
    "def get_random_video_file():\n",
    "    all_files = os.listdir(video_folder_path)\n",
    "    video_files = [file for file in all_files if file.endswith(('.mp4'))]\n",
    "    if not video_files:\n",
    "        print(\"No video files found in the folder.\")\n",
    "        return None\n",
    "    while True:\n",
    "        random_video = random.choice(video_files)\n",
    "        with open('video_log.txt', 'r') as video_log:\n",
    "            videos = video_log.readlines()\n",
    "        recent_videos = videos[:10]\n",
    "        if (random_video + '\\n') in recent_videos:\n",
    "            continue\n",
    "        else:\n",
    "            videos.insert(0, random_video + '\\n')\n",
    "            break\n",
    "    with open('video_log.txt', 'w') as video_log:\n",
    "        video_log.writelines(videos)\n",
    "    return os.path.join(video_folder_path, random_video)"
   ]
  },
  {
   "cell_type": "code",
   "execution_count": 108,
   "id": "89b1bf62-f58d-4dc8-963e-ea6fad3e166c",
   "metadata": {},
   "outputs": [],
   "source": [
    "audio_folder_path = 'D:/Python/Youtube Project/Project/Background_Musics/'\n",
    "def get_random_audio_file():\n",
    "    all_files = os.listdir(audio_folder_path)\n",
    "    audio_files = [file for file in all_files if file.endswith(('.mp3'))]\n",
    "    if not audio_files:\n",
    "        print(\"No audio files found in the folder.\")\n",
    "        return None\n",
    "    random_audio = random.choice(audio_files)\n",
    "    return os.path.join(audio_folder_path, random_audio)"
   ]
  },
  {
   "cell_type": "code",
   "execution_count": 109,
   "id": "e585cee8-15bf-430e-96c3-f093ec345b13",
   "metadata": {},
   "outputs": [],
   "source": [
    "def remakeSentence(sentence):\n",
    "    letter_limit = 18\n",
    "    result = count_letters(sentence)\n",
    "    words = sentence.split(' ')\n",
    "    final_output = ''\n",
    "    for i in range(math.ceil(result/letter_limit)):\n",
    "        segment = ''\n",
    "        while count_letters(segment)<letter_limit:\n",
    "            if len(words)==0:\n",
    "                break\n",
    "            segment += words.pop(0) + ' '\n",
    "        if (i == math.ceil(result/letter_limit) - 1) or len(words)==0:\n",
    "            final_output += segment\n",
    "        else:\n",
    "            final_output += segment + '\\n'\n",
    "    return final_output"
   ]
  },
  {
   "cell_type": "code",
   "execution_count": 110,
   "id": "95a5c332-2b85-468e-b675-f66775373bff",
   "metadata": {},
   "outputs": [
    {
     "name": "stdout",
     "output_type": "stream",
     "text": [
      "Moviepy - Building video Shorts/Short_39.mp4.\n",
      "MoviePy - Writing audio in Short_39TEMP_MPY_wvf_snd.mp3\n"
     ]
    },
    {
     "name": "stderr",
     "output_type": "stream",
     "text": [
      "                                                                                                                       \r"
     ]
    },
    {
     "name": "stdout",
     "output_type": "stream",
     "text": [
      "MoviePy - Done.\n",
      "Moviepy - Writing video Shorts/Short_39.mp4\n",
      "\n"
     ]
    },
    {
     "name": "stderr",
     "output_type": "stream",
     "text": [
      "                                                                                                                       "
     ]
    },
    {
     "name": "stdout",
     "output_type": "stream",
     "text": [
      "Moviepy - Done !\n",
      "Moviepy - video ready Shorts/Short_39.mp4\n"
     ]
    },
    {
     "name": "stderr",
     "output_type": "stream",
     "text": [
      "\r"
     ]
    }
   ],
   "source": [
    "video_lenght = 0\n",
    "clips = []\n",
    "while video_lenght<=voice_lenght:\n",
    "    clip = VideoFileClip(get_random_video_file())\n",
    "    duration = clip.duration\n",
    "    if (duration > voice_lenght) and len(clips)==0:\n",
    "        clip2 = clip.subclip(0, math.ceil(voice_lenght)).fx(vfx.fadein, 0.5).fx(vfx.fadeout, 0.5)\n",
    "        video_lenght += math.ceil(voice_lenght) \n",
    "        clips.append(clip2)\n",
    "    elif duration > (voice_lenght - video_lenght):\n",
    "        clip2 = clip.subclip(0, math.ceil(voice_lenght-video_lenght)).crossfadein(1).fx(vfx.fadeout, 0.5)\n",
    "        video_lenght += clip2.duration\n",
    "        clips.append(clip2)\n",
    "    elif len(clips)==0:\n",
    "        clip2 = clip.fx(vfx.fadein, 0.5)\n",
    "        video_lenght += duration\n",
    "        clips.append(clip2)\n",
    "    else:\n",
    "        clip2 = clip.crossfadein(1)\n",
    "        video_lenght += duration\n",
    "        clips.append(clip2)\n",
    "selected = AudioFileClip(get_random_audio_file())\n",
    "initial_point = random.randint(0, math.floor(selected.duration - video_lenght))\n",
    "background = selected.subclip(initial_point, initial_point + video_lenght).fx(afx.audio_fadein, 0.5).fx(afx.volumex, 0.075)\n",
    "voice_clip = AudioFileClip(f'voices/Short_{short_no}.mp3')\n",
    "\n",
    "text_clips = []\n",
    "for start, end, prase in final_voice_over_ranges:\n",
    "    sentence = remakeSentence(prase)\n",
    "    text_clip = TextClip(sentence, fontsize=60, color='yellow', font='Montserrat', kerning=1).set_position('center')\n",
    "    tc_w, tc_h = text_clip.size\n",
    "    color_clip = ColorClip(size=(tc_w+50, tc_h+10), color=(0,0,0)).set_opacity(0.25)\n",
    "    middle_clip = CompositeVideoClip([color_clip, text_clip])\n",
    "    middle_clip = middle_clip.set_position(('center', (1440-tc_h/2))).set_start(start).set_end(end).fx(vfx.fadein, 0.25).fx(vfx.fadeout, 0.25)\n",
    "    text_clips.append(middle_clip)\n",
    "\n",
    "combined_video_clips = concatenate_videoclips(clips, method='compose')\n",
    "combined = CompositeVideoClip([combined_video_clips] + text_clips)\n",
    "combined.audio = CompositeAudioClip([background, voice_clip])\n",
    "combined.write_videofile(f'Shorts/Short_{short_no}.mp4', codec='h264_nvenc', threads=4)"
   ]
  },
  {
   "cell_type": "code",
   "execution_count": 111,
   "id": "dc36e6ae-2e5a-44bf-89b3-46d1174c35bc",
   "metadata": {},
   "outputs": [],
   "source": [
    "default_keywords = ' #beautyisthekey #beautytutorial #beautyhacks #beautyinspiration #beautysecrets #beautyproducts #beautyandstyle #beautycare #makeupartist #beautyblogger #beautytips #beautyaddict #makeuplook #beautycommunity #beautycare #beautyful'"
   ]
  },
  {
   "cell_type": "code",
   "execution_count": 112,
   "id": "7bd04d33-b366-4f94-8732-3a7ead202b4f",
   "metadata": {},
   "outputs": [
    {
     "name": "stdout",
     "output_type": "stream",
     "text": [
      "39th Video uploaded Successfully for 2024-02-11 00:00:00 date.\n"
     ]
    }
   ],
   "source": [
    "options = Options()\n",
    "profile = webdriver.FirefoxProfile('C:\\\\Users\\\\ASUS\\\\AppData\\\\Roaming\\\\Mozilla\\\\Firefox\\\\Profiles\\\\plgll2zq.default-release')\n",
    "options.profile = profile\n",
    "driver = webdriver.Firefox(options=options)\n",
    "driver.get(\"https://studio.youtube.com/\")\n",
    "time.sleep(3)\n",
    "\n",
    "upload_button = driver.find_element(By.XPATH, '//*[@id=\"upload-icon\"]')\n",
    "upload_button.click()\n",
    "\n",
    "file_input = driver.find_element(By.XPATH, '//*[@id=\"content\"]/input')\n",
    "simp_path = f'Shorts/Short_{short_no}.mp4'\n",
    "abs_path = os.path.abspath(simp_path)\n",
    "file_input.send_keys(abs_path)\n",
    "time.sleep(5)\n",
    "\n",
    "text_input = driver.find_element(By.XPATH, '//*[@id=\"title-wrapper\"]//*[@id=\"textbox\"]')\n",
    "title = topic[:-1]\n",
    "text_input.clear()\n",
    "text_input.send_keys(title)\n",
    "time.sleep(1)\n",
    "\n",
    "description_input = driver.find_element(By.XPATH, '//*[@id=\"description-textarea\"]//*[@id=\"textbox\"]')\n",
    "description = description.split('Description: ')[-1] + default_keywords\n",
    "description_input.clear()\n",
    "description_input.send_keys(description)\n",
    "time.sleep(1)\n",
    "\n",
    "child_verification = driver.find_element(By.XPATH, '//*[@id=\"audience\"]/ytkc-made-for-kids-select/div[4]/tp-yt-paper-radio-group/tp-yt-paper-radio-button[2]')\n",
    "child_verification.click()\n",
    "time.sleep(1)\n",
    "\n",
    "next_button = driver.find_element(By.XPATH, '//*[@id=\"next-button\"]')\n",
    "for i in range(3):\n",
    "    next_button.click()\n",
    "    time.sleep(1)\n",
    "time.sleep(1)\n",
    "\n",
    "schedule_select = driver.find_element(By.XPATH, '//*[@id=\"schedule-radio-button\"]')\n",
    "schedule_select.click()\n",
    "time.sleep(1)\n",
    "\n",
    "schedule_trigger = driver.find_element(By.XPATH, '//*[@id=\"datepicker-trigger\"]/ytcp-dropdown-trigger/div')\n",
    "schedule_trigger.click()\n",
    "\n",
    "move_next = False\n",
    "move_further = False\n",
    "currunt_date = datetime.strptime(''.join(schedule_trigger.text.split(',')), '%b %d %Y')\n",
    "if (upload_date.month - currunt_date.month) == 1:\n",
    "    move_next=True\n",
    "elif (upload_date.month - currunt_date.month) == 2:\n",
    "    move_next = True\n",
    "    move_further = True\n",
    "time.sleep(1)\n",
    "\n",
    "spans = driver.find_elements(By.XPATH, '//*[@id=\"calendar\"]//span')\n",
    "for span in spans:\n",
    "    if span.text == str(upload_date.day) and move_next and move_further:\n",
    "        driver.find_element(By.XPATH, '//*[@id=\"control-area\"]//*[@id=\"next-month\"]').click()\n",
    "        time.sleep(1)\n",
    "        move_further = False\n",
    "        continue\n",
    "    elif span.text == str(upload_date.day) and move_next:\n",
    "        driver.find_element(By.XPATH, '//*[@id=\"control-area\"]//*[@id=\"next-month\"]').click()\n",
    "        time.sleep(1)\n",
    "        move_next = False\n",
    "        continue\n",
    "    elif span.text == str(upload_date.day):\n",
    "        span.click()\n",
    "        break\n",
    "time.sleep(1)\n",
    "\n",
    "schedule_time = driver.find_element(By.XPATH, '//*[@id=\"time-of-day-container\"]')\n",
    "schedule_time.click()\n",
    "time.sleep(1)\n",
    "selected_time = driver.find_element(By.XPATH, '//*[@id=\"dialog\"]/tp-yt-paper-listbox/tp-yt-paper-item[23]')\n",
    "selected_time.click()\n",
    "time.sleep(10)\n",
    "\n",
    "done_button = driver.find_element(By.XPATH, '//*[@id=\"done-button\"]')\n",
    "done_button.click()\n",
    "time.sleep(30)\n",
    "\n",
    "driver.close()\n",
    "print(f'{short_no}th Video uploaded Successfully for {upload_date} date.')"
   ]
  },
  {
   "cell_type": "code",
   "execution_count": null,
   "id": "160ba55c-8d32-476a-b65e-2c12c84733fb",
   "metadata": {},
   "outputs": [],
   "source": []
  }
 ],
 "metadata": {
  "kernelspec": {
   "display_name": "Python 3 (ipykernel)",
   "language": "python",
   "name": "python3"
  },
  "language_info": {
   "codemirror_mode": {
    "name": "ipython",
    "version": 3
   },
   "file_extension": ".py",
   "mimetype": "text/x-python",
   "name": "python",
   "nbconvert_exporter": "python",
   "pygments_lexer": "ipython3",
   "version": "3.11.4"
  }
 },
 "nbformat": 4,
 "nbformat_minor": 5
}
