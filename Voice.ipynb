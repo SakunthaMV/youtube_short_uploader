{
 "cells": [
  {
   "cell_type": "code",
   "execution_count": 112,
   "id": "dbc4e52f-9ed3-4c0c-bdef-09d92c9d5dfa",
   "metadata": {},
   "outputs": [],
   "source": [
    "import elevenlabs\n",
    "import random\n",
    "from moviepy.editor import *\n",
    "import audio_metadata"
   ]
  },
  {
   "cell_type": "code",
   "execution_count": 84,
   "id": "5262a4aa-c521-4a39-bb99-036a6f2b5b54",
   "metadata": {},
   "outputs": [],
   "source": [
    "short_no = 41"
   ]
  },
  {
   "cell_type": "code",
   "execution_count": 85,
   "id": "16cf2858-fd0f-4f4e-b950-485c84d65333",
   "metadata": {},
   "outputs": [],
   "source": [
    "sentences = [\"Do you want to boost your confidence and feel amazing?\", \"Well, you're in luck!\"]"
   ]
  },
  {
   "cell_type": "code",
   "execution_count": 88,
   "id": "f09a8140-9dfc-4cab-993b-94808926d029",
   "metadata": {},
   "outputs": [],
   "source": [
    "elevenlabs_api = open('eleven-lab_api.txt', 'r').read()\n",
    "elevenlabs.set_api_key(elevenlabs_api)"
   ]
  },
  {
   "cell_type": "code",
   "execution_count": 113,
   "id": "17e097cf-23b3-43fd-93af-ab557771352f",
   "metadata": {},
   "outputs": [],
   "source": [
    "def get_audio_length(file_path):\n",
    "    metadata = audio_metadata.load(file_path)\n",
    "    duration_in_seconds = metadata.streaminfo.duration\n",
    "    return duration_in_seconds"
   ]
  },
  {
   "cell_type": "code",
   "execution_count": 116,
   "id": "e25e54a7-2187-454b-b679-e1542a9ea2ba",
   "metadata": {},
   "outputs": [],
   "source": [
    "elevenlab = True"
   ]
  },
  {
   "cell_type": "code",
   "execution_count": 117,
   "id": "a4d82551-a6e1-4c8c-9709-cde344fed76b",
   "metadata": {},
   "outputs": [],
   "source": [
    "def voiceOverElevenLabs(text, countable=None, voice=1):\n",
    "    voice = elevenlabs.Voice(\n",
    "        voice_id = \"ZQe5CZNOzWyzPSCn5a3c\",\n",
    "        settings = elevenlabs.VoiceSettings(\n",
    "            stability = 1, # Lower is more expressive.\n",
    "            similarity_boost = 0.75\n",
    "        )\n",
    "    )\n",
    "    audio = elevenlabs.generate(\n",
    "        text = text,\n",
    "        voice = voice\n",
    "    )\n",
    "    # elevenlabs.play(audio)\n",
    "    elevenlabs.save(audio, f'voices/Short_{short_no}_{countable}.mp3')\n",
    "    lenght = get_audio_length(f'voices/Short_{short_no}_{countable}.mp3')\n",
    "    return lenght"
   ]
  },
  {
   "cell_type": "code",
   "execution_count": 115,
   "id": "d5739526-1c59-4f5f-8735-e8f748c3daf6",
   "metadata": {},
   "outputs": [
    {
     "data": {
      "text/plain": [
       "2.7428125"
      ]
     },
     "execution_count": 115,
     "metadata": {},
     "output_type": "execute_result"
    }
   ],
   "source": [
    "voiceOverElevenLabs(sentences[0], 1)"
   ]
  },
  {
   "cell_type": "code",
   "execution_count": 118,
   "id": "d24fecb8-b639-4211-b752-151303da7c43",
   "metadata": {},
   "outputs": [
    {
     "name": "stdout",
     "output_type": "stream",
     "text": [
      "MoviePy - Writing audio in voices/Short_41.mp3\n"
     ]
    },
    {
     "name": "stderr",
     "output_type": "stream",
     "text": [
      "                                                                                                                       "
     ]
    },
    {
     "name": "stdout",
     "output_type": "stream",
     "text": [
      "MoviePy - Done.\n"
     ]
    },
    {
     "name": "stderr",
     "output_type": "stream",
     "text": [
      "\r"
     ]
    }
   ],
   "source": [
    "voice_over_ranges = []\n",
    "voice_clips = []\n",
    "final_sentences_list = sentences\n",
    "for s in final_sentences_list:\n",
    "    i = final_sentences_list.index(s) + 1\n",
    "    length_sub = voiceOverElevenLabs(s, countable=i, voice=1)\n",
    "    if elevenlab:\n",
    "        voice_clip = AudioFileClip(f'voices/Short_{short_no}_{i}.mp3')\n",
    "        voice_clips.append(voice_clip)\n",
    "        gap = AudioFileClip(f'voices/Gap.mp3')\n",
    "        voice_clips.append(gap)\n",
    "    voice_over_ranges.append(length_sub)\n",
    "\n",
    "final_audio = concatenate_audioclips(voice_clips)\n",
    "final_audio.write_audiofile(f'voices/Short_{short_no}.mp3')"
   ]
  },
  {
   "cell_type": "code",
   "execution_count": 108,
   "id": "51e050f1-ee2b-4a6a-a4eb-f15d824b1417",
   "metadata": {},
   "outputs": [
    {
     "name": "stdout",
     "output_type": "stream",
     "text": [
      "MoviePy - Writing audio in voices/Short_41_new_1.mp3\n"
     ]
    },
    {
     "name": "stderr",
     "output_type": "stream",
     "text": [
      "                                                                                                                       "
     ]
    },
    {
     "name": "stdout",
     "output_type": "stream",
     "text": [
      "MoviePy - Done.\n"
     ]
    },
    {
     "name": "stderr",
     "output_type": "stream",
     "text": [
      "\r"
     ]
    }
   ],
   "source": [
    "voice_clip1 = AudioFileClip(f'voices/Short_{short_no}_1.mp3')\n",
    "voice_clip3 = AudioFileClip(f'voices/Gap.mp3')\n",
    "voice_clip2 = AudioFileClip(f'voices/Short_{short_no}_2.mp3')\n",
    "\n",
    "final_audio = concatenate_audioclips([voice_clip1, voice_clip3, voice_clip2])\n",
    "final_audio.write_audiofile(f'voices/Short_{short_no}_new_1.mp3')"
   ]
  },
  {
   "cell_type": "code",
   "execution_count": null,
   "id": "695bf92c-6021-4c4c-9762-fbc66ff733ee",
   "metadata": {},
   "outputs": [],
   "source": []
  }
 ],
 "metadata": {
  "kernelspec": {
   "display_name": "Python 3 (ipykernel)",
   "language": "python",
   "name": "python3"
  },
  "language_info": {
   "codemirror_mode": {
    "name": "ipython",
    "version": 3
   },
   "file_extension": ".py",
   "mimetype": "text/x-python",
   "name": "python",
   "nbconvert_exporter": "python",
   "pygments_lexer": "ipython3",
   "version": "3.11.4"
  }
 },
 "nbformat": 4,
 "nbformat_minor": 5
}
